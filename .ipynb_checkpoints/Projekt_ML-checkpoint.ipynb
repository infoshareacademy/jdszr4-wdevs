{
 "cells": [
  {
   "cell_type": "markdown",
   "metadata": {},
   "source": [
    "# Projekt 3 - ML\n",
    "### Krzysztof Kadowski"
   ]
  },
  {
   "cell_type": "markdown",
   "metadata": {},
   "source": [
    "<b>TEMAT:</b> Estymacja zarobków developera/data scientista\n",
    "<li>Predykcja zarobków pracownika IT na bazie corocznych ankiet stackoverflow. z lat 2017-2020.  Aplikacja przewidująca “ile powinienem zarabiać”.</li>\n",
    "<li>Zbiór w dwóch wersjach - przeprocesowanej, gotowejdo użytku i w wersjisurowej. Gorąco zachęcam do eksplorowania danych surowych i korzystaniaze swoich pomysłów na preprocessing. Dostępne także ankiety z wcześniejszych lat pod adresem https://insights.stackoverflow.com/surveycodaje dodatkowe możliwości :)</li>"
   ]
  },
  {
   "cell_type": "markdown",
   "metadata": {},
   "source": [
    "Główne cele projektu:\n",
    "    <li>Machine learning</li>\n",
    "    a. Obróbka i analiza danych - odrzucenie zbędnychzmiennych, przygotowaniedanych do modelowania etc.<br>\n",
    "    b. Porównanie w zależności od typu problemu (regresja/klasyfikacja)różnegorodzaju modeli wraz z optymalizacją hiperparametrów<br>\n",
    "    c. Zestawienie wyników z badań w formie adekwatnychwykresów i tabel.<br>\n",
    "    d. Wszelkie inne dodatkowe rzeczy są na plus - np.zbadanie wpływu PCA na wyniki,weryfikacja interesujących hipotez o danych,w przypadku niektórych problemów zastosowanie zarówno podejścia regresyjnego,jak i  klasyfikacyjnego i co tamjeszcze sobie wymyślicie, możliwości zazwyczaj jest dużo :)<br>\n",
    "    <li>Aplikacja</li>\n",
    "    a. Prezentacja wartości biznesowej wynikającej z przygotowanegomodelu (np. poparte adekwatnymi wizualizacjami, tabelkami, możliwieinteraktywnymi). Jeśli to możliwe aplikacja powinnateż pozwalaćużytkownikowi na podanie wartości parametrów, pozwalającychuzyskać dla nich wynik najlepszego/wybranego modelu.<br>\n",
    "    b. Jeśli umożliwiamy użytkownikowi podanie własnychdanych aplikacjapowinna je walidować, tj. możliwe powinno być podanietylko wartościz zakresu sensownego dla danej zmiennej.<br>\n",
    "    c. Architektura aplikacji powinna wykorzystywać programowanie obiektowe.<br>"
   ]
  },
  {
   "cell_type": "code",
   "execution_count": 1,
   "metadata": {},
   "outputs": [],
   "source": [
    "import pandas as pd \n",
    "import numpy as np \n",
    "import seaborn as sns\n",
    "import matplotlib.pyplot as plt\n",
    "import sklearn\n",
    "import xgboost as xgb\n",
    "from scipy import stats as st\n",
    "from matplotlib.pylab import rcParams\n",
    "from sklearn import metrics \n",
    "from sklearn.preprocessing import LabelEncoder\n",
    "from sklearn.preprocessing import StandardScaler\n",
    "from sklearn import ensemble  # pakiet z lasami decyzyjnymi\n",
    "from sklearn.model_selection import train_test_split\n",
    "from sklearn.decomposition import PCA\n",
    "from sklearn import ensemble\n",
    "from sklearn.tree import DecisionTreeClassifier, DecisionTreeRegressor\n",
    "from mlxtend import plotting\n",
    "from sklearn.metrics import classification_report\n",
    "from sklearn.linear_model import LogisticRegression\n",
    "\n",
    "\n",
    "plt.rcParams[\"figure.figsize\"] = (20,6)\n",
    "%matplotlib inline\n"
   ]
  },
  {
   "cell_type": "code",
   "execution_count": 2,
   "metadata": {},
   "outputs": [
    {
     "ename": "FileNotFoundError",
     "evalue": "[Errno 2] No such file or directory: 'survey_final.csv'",
     "output_type": "error",
     "traceback": [
      "\u001b[1;31m---------------------------------------------------------------------------\u001b[0m",
      "\u001b[1;31mFileNotFoundError\u001b[0m                         Traceback (most recent call last)",
      "\u001b[1;32m<ipython-input-2-6df6907ace9d>\u001b[0m in \u001b[0;36m<module>\u001b[1;34m\u001b[0m\n\u001b[1;32m----> 1\u001b[1;33m \u001b[0mdf\u001b[0m \u001b[1;33m=\u001b[0m \u001b[0mpd\u001b[0m\u001b[1;33m.\u001b[0m\u001b[0mread_csv\u001b[0m\u001b[1;33m(\u001b[0m\u001b[1;34m\"survey_final.csv\"\u001b[0m\u001b[1;33m)\u001b[0m\u001b[1;33m\u001b[0m\u001b[1;33m\u001b[0m\u001b[0m\n\u001b[0m\u001b[0;32m      2\u001b[0m \u001b[0mdf\u001b[0m\u001b[1;33m.\u001b[0m\u001b[0mhead\u001b[0m\u001b[1;33m(\u001b[0m\u001b[1;33m)\u001b[0m\u001b[1;33m\u001b[0m\u001b[1;33m\u001b[0m\u001b[0m\n",
      "\u001b[1;32m~\\anaconda3\\lib\\site-packages\\pandas\\io\\parsers.py\u001b[0m in \u001b[0;36mread_csv\u001b[1;34m(filepath_or_buffer, sep, delimiter, header, names, index_col, usecols, squeeze, prefix, mangle_dupe_cols, dtype, engine, converters, true_values, false_values, skipinitialspace, skiprows, skipfooter, nrows, na_values, keep_default_na, na_filter, verbose, skip_blank_lines, parse_dates, infer_datetime_format, keep_date_col, date_parser, dayfirst, cache_dates, iterator, chunksize, compression, thousands, decimal, lineterminator, quotechar, quoting, doublequote, escapechar, comment, encoding, dialect, error_bad_lines, warn_bad_lines, delim_whitespace, low_memory, memory_map, float_precision)\u001b[0m\n\u001b[0;32m    684\u001b[0m     )\n\u001b[0;32m    685\u001b[0m \u001b[1;33m\u001b[0m\u001b[0m\n\u001b[1;32m--> 686\u001b[1;33m     \u001b[1;32mreturn\u001b[0m \u001b[0m_read\u001b[0m\u001b[1;33m(\u001b[0m\u001b[0mfilepath_or_buffer\u001b[0m\u001b[1;33m,\u001b[0m \u001b[0mkwds\u001b[0m\u001b[1;33m)\u001b[0m\u001b[1;33m\u001b[0m\u001b[1;33m\u001b[0m\u001b[0m\n\u001b[0m\u001b[0;32m    687\u001b[0m \u001b[1;33m\u001b[0m\u001b[0m\n\u001b[0;32m    688\u001b[0m \u001b[1;33m\u001b[0m\u001b[0m\n",
      "\u001b[1;32m~\\anaconda3\\lib\\site-packages\\pandas\\io\\parsers.py\u001b[0m in \u001b[0;36m_read\u001b[1;34m(filepath_or_buffer, kwds)\u001b[0m\n\u001b[0;32m    450\u001b[0m \u001b[1;33m\u001b[0m\u001b[0m\n\u001b[0;32m    451\u001b[0m     \u001b[1;31m# Create the parser.\u001b[0m\u001b[1;33m\u001b[0m\u001b[1;33m\u001b[0m\u001b[1;33m\u001b[0m\u001b[0m\n\u001b[1;32m--> 452\u001b[1;33m     \u001b[0mparser\u001b[0m \u001b[1;33m=\u001b[0m \u001b[0mTextFileReader\u001b[0m\u001b[1;33m(\u001b[0m\u001b[0mfp_or_buf\u001b[0m\u001b[1;33m,\u001b[0m \u001b[1;33m**\u001b[0m\u001b[0mkwds\u001b[0m\u001b[1;33m)\u001b[0m\u001b[1;33m\u001b[0m\u001b[1;33m\u001b[0m\u001b[0m\n\u001b[0m\u001b[0;32m    453\u001b[0m \u001b[1;33m\u001b[0m\u001b[0m\n\u001b[0;32m    454\u001b[0m     \u001b[1;32mif\u001b[0m \u001b[0mchunksize\u001b[0m \u001b[1;32mor\u001b[0m \u001b[0miterator\u001b[0m\u001b[1;33m:\u001b[0m\u001b[1;33m\u001b[0m\u001b[1;33m\u001b[0m\u001b[0m\n",
      "\u001b[1;32m~\\anaconda3\\lib\\site-packages\\pandas\\io\\parsers.py\u001b[0m in \u001b[0;36m__init__\u001b[1;34m(self, f, engine, **kwds)\u001b[0m\n\u001b[0;32m    944\u001b[0m             \u001b[0mself\u001b[0m\u001b[1;33m.\u001b[0m\u001b[0moptions\u001b[0m\u001b[1;33m[\u001b[0m\u001b[1;34m\"has_index_names\"\u001b[0m\u001b[1;33m]\u001b[0m \u001b[1;33m=\u001b[0m \u001b[0mkwds\u001b[0m\u001b[1;33m[\u001b[0m\u001b[1;34m\"has_index_names\"\u001b[0m\u001b[1;33m]\u001b[0m\u001b[1;33m\u001b[0m\u001b[1;33m\u001b[0m\u001b[0m\n\u001b[0;32m    945\u001b[0m \u001b[1;33m\u001b[0m\u001b[0m\n\u001b[1;32m--> 946\u001b[1;33m         \u001b[0mself\u001b[0m\u001b[1;33m.\u001b[0m\u001b[0m_make_engine\u001b[0m\u001b[1;33m(\u001b[0m\u001b[0mself\u001b[0m\u001b[1;33m.\u001b[0m\u001b[0mengine\u001b[0m\u001b[1;33m)\u001b[0m\u001b[1;33m\u001b[0m\u001b[1;33m\u001b[0m\u001b[0m\n\u001b[0m\u001b[0;32m    947\u001b[0m \u001b[1;33m\u001b[0m\u001b[0m\n\u001b[0;32m    948\u001b[0m     \u001b[1;32mdef\u001b[0m \u001b[0mclose\u001b[0m\u001b[1;33m(\u001b[0m\u001b[0mself\u001b[0m\u001b[1;33m)\u001b[0m\u001b[1;33m:\u001b[0m\u001b[1;33m\u001b[0m\u001b[1;33m\u001b[0m\u001b[0m\n",
      "\u001b[1;32m~\\anaconda3\\lib\\site-packages\\pandas\\io\\parsers.py\u001b[0m in \u001b[0;36m_make_engine\u001b[1;34m(self, engine)\u001b[0m\n\u001b[0;32m   1176\u001b[0m     \u001b[1;32mdef\u001b[0m \u001b[0m_make_engine\u001b[0m\u001b[1;33m(\u001b[0m\u001b[0mself\u001b[0m\u001b[1;33m,\u001b[0m \u001b[0mengine\u001b[0m\u001b[1;33m=\u001b[0m\u001b[1;34m\"c\"\u001b[0m\u001b[1;33m)\u001b[0m\u001b[1;33m:\u001b[0m\u001b[1;33m\u001b[0m\u001b[1;33m\u001b[0m\u001b[0m\n\u001b[0;32m   1177\u001b[0m         \u001b[1;32mif\u001b[0m \u001b[0mengine\u001b[0m \u001b[1;33m==\u001b[0m \u001b[1;34m\"c\"\u001b[0m\u001b[1;33m:\u001b[0m\u001b[1;33m\u001b[0m\u001b[1;33m\u001b[0m\u001b[0m\n\u001b[1;32m-> 1178\u001b[1;33m             \u001b[0mself\u001b[0m\u001b[1;33m.\u001b[0m\u001b[0m_engine\u001b[0m \u001b[1;33m=\u001b[0m \u001b[0mCParserWrapper\u001b[0m\u001b[1;33m(\u001b[0m\u001b[0mself\u001b[0m\u001b[1;33m.\u001b[0m\u001b[0mf\u001b[0m\u001b[1;33m,\u001b[0m \u001b[1;33m**\u001b[0m\u001b[0mself\u001b[0m\u001b[1;33m.\u001b[0m\u001b[0moptions\u001b[0m\u001b[1;33m)\u001b[0m\u001b[1;33m\u001b[0m\u001b[1;33m\u001b[0m\u001b[0m\n\u001b[0m\u001b[0;32m   1179\u001b[0m         \u001b[1;32melse\u001b[0m\u001b[1;33m:\u001b[0m\u001b[1;33m\u001b[0m\u001b[1;33m\u001b[0m\u001b[0m\n\u001b[0;32m   1180\u001b[0m             \u001b[1;32mif\u001b[0m \u001b[0mengine\u001b[0m \u001b[1;33m==\u001b[0m \u001b[1;34m\"python\"\u001b[0m\u001b[1;33m:\u001b[0m\u001b[1;33m\u001b[0m\u001b[1;33m\u001b[0m\u001b[0m\n",
      "\u001b[1;32m~\\anaconda3\\lib\\site-packages\\pandas\\io\\parsers.py\u001b[0m in \u001b[0;36m__init__\u001b[1;34m(self, src, **kwds)\u001b[0m\n\u001b[0;32m   2006\u001b[0m         \u001b[0mkwds\u001b[0m\u001b[1;33m[\u001b[0m\u001b[1;34m\"usecols\"\u001b[0m\u001b[1;33m]\u001b[0m \u001b[1;33m=\u001b[0m \u001b[0mself\u001b[0m\u001b[1;33m.\u001b[0m\u001b[0musecols\u001b[0m\u001b[1;33m\u001b[0m\u001b[1;33m\u001b[0m\u001b[0m\n\u001b[0;32m   2007\u001b[0m \u001b[1;33m\u001b[0m\u001b[0m\n\u001b[1;32m-> 2008\u001b[1;33m         \u001b[0mself\u001b[0m\u001b[1;33m.\u001b[0m\u001b[0m_reader\u001b[0m \u001b[1;33m=\u001b[0m \u001b[0mparsers\u001b[0m\u001b[1;33m.\u001b[0m\u001b[0mTextReader\u001b[0m\u001b[1;33m(\u001b[0m\u001b[0msrc\u001b[0m\u001b[1;33m,\u001b[0m \u001b[1;33m**\u001b[0m\u001b[0mkwds\u001b[0m\u001b[1;33m)\u001b[0m\u001b[1;33m\u001b[0m\u001b[1;33m\u001b[0m\u001b[0m\n\u001b[0m\u001b[0;32m   2009\u001b[0m         \u001b[0mself\u001b[0m\u001b[1;33m.\u001b[0m\u001b[0munnamed_cols\u001b[0m \u001b[1;33m=\u001b[0m \u001b[0mself\u001b[0m\u001b[1;33m.\u001b[0m\u001b[0m_reader\u001b[0m\u001b[1;33m.\u001b[0m\u001b[0munnamed_cols\u001b[0m\u001b[1;33m\u001b[0m\u001b[1;33m\u001b[0m\u001b[0m\n\u001b[0;32m   2010\u001b[0m \u001b[1;33m\u001b[0m\u001b[0m\n",
      "\u001b[1;32mpandas\\_libs\\parsers.pyx\u001b[0m in \u001b[0;36mpandas._libs.parsers.TextReader.__cinit__\u001b[1;34m()\u001b[0m\n",
      "\u001b[1;32mpandas\\_libs\\parsers.pyx\u001b[0m in \u001b[0;36mpandas._libs.parsers.TextReader._setup_parser_source\u001b[1;34m()\u001b[0m\n",
      "\u001b[1;31mFileNotFoundError\u001b[0m: [Errno 2] No such file or directory: 'survey_final.csv'"
     ]
    }
   ],
   "source": [
    "df = pd.read_csv(\"survey_final.csv\")\n",
    "df.head()"
   ]
  },
  {
   "cell_type": "code",
   "execution_count": null,
   "metadata": {},
   "outputs": [],
   "source": [
    "df.columns "
   ]
  },
  {
   "cell_type": "markdown",
   "metadata": {},
   "source": [
    "<li>Year - rok badania</li>\n",
    "<li>Hobbyist - czy hobbistycznie (Yes/No -> 0/1)</li>\n",
    "<li>ConvertedComp - sallary (nany odrzucamy?)</li>\n",
    "<li>Country - kraj (grupowanie?)</li>\n",
    "<li>DatabaseDesireNextYear - zapotrzebowanie na bazę w następnym roku - (split)</li>\n",
    "<li>DatabaseWorkedWith - bazy z którymi pracował - (split)</li>\n",
    "<li>DevType - typ dewelopera - (split)</li>\n",
    "<li>EdLevel - edukacja (sprawdzić czy nie ma dziwnych)</li>\n",
    "<li>Employment - zatrudnienie</li>\n",
    "<li>JobSat - satysfakcja z pracy (sprawdzić czy nie ma dziwnych)</li>\n",
    "<li>LanguageDesireNextYear - zapotrzebowanie na język - (split)</li>\n",
    "<li>LanguageWorkedWith - używane języki - (split)</li>\n",
    "<li>OrgSize - rozmiar organizacji (sprawdzić czy sa dziwne)</li>\n",
    "<li>UndergradMajor - zakres działalności - (split)</li>\n",
    "<li>YearsCodePro - ile przepracowanych lat (sprawdzić % nanów i skew - wypełnić przez mean/median)</li>"
   ]
  },
  {
   "cell_type": "code",
   "execution_count": null,
   "metadata": {},
   "outputs": [],
   "source": [
    "df.info()"
   ]
  },
  {
   "cell_type": "code",
   "execution_count": null,
   "metadata": {},
   "outputs": [],
   "source": [
    "df.isna().sum()"
   ]
  },
  {
   "cell_type": "code",
   "execution_count": null,
   "metadata": {},
   "outputs": [],
   "source": [
    "N = 303590\n",
    "N"
   ]
  },
  {
   "cell_type": "code",
   "execution_count": null,
   "metadata": {},
   "outputs": [],
   "source": [
    "print(\"Braki\")\n",
    "for i in df.columns:\n",
    "    print(i,\": \" , round(100*df[i].isna().sum()/N,2), \"%\")"
   ]
  },
  {
   "cell_type": "code",
   "execution_count": null,
   "metadata": {},
   "outputs": [],
   "source": [
    "df[~df.isna()]"
   ]
  },
  {
   "cell_type": "code",
   "execution_count": null,
   "metadata": {},
   "outputs": [],
   "source": [
    "N = 303590\n",
    "N"
   ]
  },
  {
   "cell_type": "code",
   "execution_count": null,
   "metadata": {},
   "outputs": [],
   "source": [
    "print(\"Braki\")\n",
    "for i in df.columns:\n",
    "    print(i,\": \" , round(100*df[i].isna().sum()/N,2), \"%\")"
   ]
  },
  {
   "cell_type": "code",
   "execution_count": null,
   "metadata": {},
   "outputs": [],
   "source": [
    "#usuwanie dla ConvertedComp pustych wierszy \n",
    "df.dropna(subset = [\"ConvertedComp\"], inplace=True)\n",
    "df"
   ]
  },
  {
   "cell_type": "code",
   "execution_count": null,
   "metadata": {},
   "outputs": [],
   "source": [
    "df[\"EdLevel\"].replace({\n",
    "\"Associate degree (A.A., A.S., etc.)\":\"Associate degree\",\n",
    "\"Bachelor's degree (B.A., B.S., B.Eng., etc.\":\"Bachelor's degree\",\n",
    "\"Bachelor's degree (BA, BS, B.Eng., etc.)\":\"Bachelor's degree\",\n",
    "\"Bachelor‚'s degree (BA, BS, B.Eng., etc.)\":\"Bachelor's degree\",\n",
    "\"Bachelor's degree (B.A., B.S., B.Eng., etc.)\":\"Bachelor's degree\",\n",
    "\"Master's degree (M.A., M.S., M.Eng., MBA, etc.)\":\"Master's degree\",\n",
    "\"Master's degree (MA, MS, M.Eng., MBA, etc.)\":\"Master's degree\",\n",
    "\"Master‚'s degree (MA, MS, M.Eng., MBA, etc.)\":\"Master's degree\",\n",
    "\"Other doctoral degree (Ph.D, Ed.D., etc.)\":\"Doctoral degree\",\n",
    "\"Other doctoral degree (Ph.D., Ed.D., etc.)\":\"Doctoral degree\",\n",
    "\"Professional degree (JD, MD, etc.)\":\"Professional degree\",\n",
    "\"Secondary school (e.g. American high school, German Realschule or Gymnasium, etc.)\":\"Secondary school\",\n",
    "\"Some college/university study without earning a bachelor's degree\":\"Some college/university study without earning a degree\"\n",
    "}, inplace=True)"
   ]
  },
  {
   "cell_type": "code",
   "execution_count": null,
   "metadata": {},
   "outputs": [],
   "source": [
    "df"
   ]
  },
  {
   "cell_type": "code",
   "execution_count": null,
   "metadata": {},
   "outputs": [],
   "source": [
    "df[\"Hobbyist\"].replace({\n",
    "\"Yes, I contribute to open source projects\":\"Yes\",\n",
    "\"Yes, I program as a hobby\":\"Yes\",\n",
    "\"Yes, both\":\"Yes\"}, inplace=True)"
   ]
  },
  {
   "cell_type": "code",
   "execution_count": null,
   "metadata": {},
   "outputs": [],
   "source": [
    "df[\"Country\"].replace({\n",
    "\"Azerbaidjan\":\"Azerbaijan\",\n",
    "\"Bosnia-Herzegovina\":\"Bosnia and Herzegovina\",\n",
    "\"CÃ´te d'Ivoire\":\"Ivory Coast\",\n",
    "\"C√¥te d'Ivoire\":\"Ivory Coast\",\n",
    "\"Hong Kong (S.A.R.)\":\"Hong Kong\",\n",
    "\"Iran, Islamic Republic of...\":\"Iran\",\n",
    "\"Lao People's Democratic Republic\":\"Laos\",\n",
    "\"Libyan Arab Jamahiriya\":\"Libia\",\n",
    "\"Republic of Korea\":\"Korea\",\n",
    "\"South Korea\":\"Korea\",\n",
    "\"Saint Vincent & Grenadines\":\"Saint Vincent and the Grenadines\",\n",
    "\"Slovak Republic\":\"Slovakia\",\n",
    "\"Syrian Arab Republic\":\"Syria\",\n",
    "\"Tadjikistan\":\"Tajikistan\",\n",
    "\"United Republic of Tanzania\":\"Tanzania\",\n",
    "\"Venezuela, Bolivarian Republic of...\":\"Venezuela\",\n",
    "\"Viet Nam\":\"Vietnam\",\n",
    "\"Congo, Republic of the...\":\"Congo\",\n",
    "\"Ivory Coast (Cote D'Ivoire)\":\"Ivory Coast\"\n",
    "}, inplace=True)"
   ]
  },
  {
   "cell_type": "code",
   "execution_count": null,
   "metadata": {},
   "outputs": [],
   "source": [
    "df[\"OrgSize\"].replace({\"2-9 employees\":\"Fewer than 10 employees\", \n",
    "                       \"2 to 9 employees\":\"Fewer than 10 employees\", \n",
    "                       \"Just me - I am a freelancer, sole proprietor, etc.\":\"1 - freelancer, sole prioprietor, etc.\"\n",
    "                      }, inplace=True)"
   ]
  },
  {
   "cell_type": "code",
   "execution_count": null,
   "metadata": {},
   "outputs": [],
   "source": [
    "df[\"Employment\"].replace({\n",
    "    'Retired' : 'not employed',\n",
    "    'Not employed, and not looking for work' : 'not employed',\n",
    "    'Not employed, but looking for work': 'not employed',\n",
    "    }, inplace=True)\n",
    "\n",
    "df"
   ]
  },
  {
   "cell_type": "code",
   "execution_count": null,
   "metadata": {},
   "outputs": [],
   "source": [
    "df.shape"
   ]
  },
  {
   "cell_type": "code",
   "execution_count": null,
   "metadata": {},
   "outputs": [],
   "source": [
    "df[\"JobSat\"] = df[\"JobSat\"].astype(str)\n",
    "df[\"JobSat\"].replace({\n",
    "    'Extremely dissatisfied': '1',\n",
    "    'Very dissatisfied': '1',\n",
    "    'Moderately dissatisfied': '1',\n",
    "    '0.0': '1',\n",
    "    '1.0': '1',\n",
    "    '2.0': '1',\n",
    "    '3.0': '1',\n",
    "    'Slightly dissatisfied': '2',\n",
    "    'Neither satisfied nor dissatisfied': '2',\n",
    "    'Slightly satisfied': '2',\n",
    "    '4.0': '2',\n",
    "    '5.0': '2',\n",
    "    '6.0': '2',\n",
    "    'Moderately satisfied': '3',\n",
    "    'Very satisfied': '3',\n",
    "    'Extremely satisfied': '3',\n",
    "    '7.0': '3',\n",
    "    '8.0': '3',\n",
    "    '9.0': '3',\n",
    "    '10.0': '3',\n",
    "    }, inplace=True)"
   ]
  },
  {
   "cell_type": "code",
   "execution_count": null,
   "metadata": {},
   "outputs": [],
   "source": [
    "df['YearsCodePro'].replace({\n",
    "    '1 to 2 years' : '2',\n",
    "    '10 to 11 years' : '11',\n",
    "    '11 to 12 years' : '12',\n",
    "    '12 to 13 years' : '13',\n",
    "    '12-14 years' : '13',\n",
    "    '13 to 14 years' : '14',\n",
    "    '14 to 15 years' : '15',\n",
    "    '15 to 16 years' : '16',\n",
    "    '15-17 years' : '16',\n",
    "    '16 to 17 years' : '17',\n",
    "    '17 to 18 years' : '18',\n",
    "    '18 to 19 years' : '19',\n",
    "    '18-20 years' : '19',\n",
    "    '19 to 20 years' : '20',\n",
    "    '2 to 3 years' : '3',\n",
    "    '20 or more years' : '20',\n",
    "    '21-23 years' : '22',\n",
    "    '24-26 years' : '25',\n",
    "    '27-29 years' : '28',\n",
    "    '3 to 4 years' : '4',\n",
    "    '30 or more years' : '30',\n",
    "    '3-5 years' : '4',\n",
    "    '4 to 5 years' : '5',\n",
    "    '5 to 6 years' : '6',\n",
    "    '6 to 7 years' : '7',\n",
    "    '6-8 years' : '7',\n",
    "    '7 to 8 years' : '8',\n",
    "    '8 to 9 years' : '9',\n",
    "    '9 to 10 years' : '10',\n",
    "    '9-11 years' : '10',\n",
    "    'Less than 1 year' : '1',\n",
    "    'Less than a year' : '1',\n",
    "    'More than 50 years' : '50'\n",
    "}, inplace=True)"
   ]
  },
  {
   "cell_type": "code",
   "execution_count": null,
   "metadata": {},
   "outputs": [],
   "source": [
    "df.drop([\"DatabaseDesireNextYear\",\"LanguageDesireNextYear\", \"UndergradMajor\"], axis=\"columns\", inplace=True)"
   ]
  },
  {
   "cell_type": "code",
   "execution_count": null,
   "metadata": {},
   "outputs": [],
   "source": [
    "df.shape"
   ]
  },
  {
   "cell_type": "code",
   "execution_count": null,
   "metadata": {},
   "outputs": [],
   "source": [
    "df.columns"
   ]
  },
  {
   "cell_type": "code",
   "execution_count": null,
   "metadata": {},
   "outputs": [],
   "source": [
    "df"
   ]
  },
  {
   "cell_type": "code",
   "execution_count": null,
   "metadata": {
    "scrolled": true
   },
   "outputs": [],
   "source": [
    "lista= [i for i in range(0, 151172)]\n",
    "df.insert(0, 'ID', lista)\n",
    "df"
   ]
  },
  {
   "cell_type": "code",
   "execution_count": null,
   "metadata": {
    "scrolled": true
   },
   "outputs": [],
   "source": [
    "df.set_index(\"ID\", inplace=True)"
   ]
  },
  {
   "cell_type": "code",
   "execution_count": null,
   "metadata": {},
   "outputs": [],
   "source": [
    "df"
   ]
  },
  {
   "cell_type": "code",
   "execution_count": null,
   "metadata": {},
   "outputs": [],
   "source": [
    "d = df[\"DevType\"].str.get_dummies(sep=\";\")\n",
    "d"
   ]
  },
  {
   "cell_type": "code",
   "execution_count": null,
   "metadata": {},
   "outputs": [],
   "source": [
    "d[\"Academic, educator, researcher\"] = d[\"Scientist\"] + d[\"Academic researcher\"] +  d[\"Educator or academic researcher\"] + d[\"Educator\"] \n",
    "d[\"Data scientist or ML\"] = d[\"Data scientist\"] + d[\"Data scientist or machine learning specialist\"] + d[\" Data scientist\"] + d[\"Engineer, data\"] + d[\"Data or business analyst\"] + d[\"Machine learning specialist\"]+ d[\" Machine learning specialist\"] \n",
    "d[\"Database admin\"]= d[\" Database administrator\"] + d[\"Database administrator\"]\n",
    "d[\"Desktop app dev\"]= d[\" Desktop applications developer\"] + d[\"Developer, desktop or enterprise applications\"] + d[\"Desktop applications developer\"] + d[\"Desktop or enterprise applications developer\"]\n",
    "d[\"System admin\"]=d[\"Systems administrator\"] + d[\"System administrator\"]+ d[\" Systems administrator\"]\n",
    "d[\"Developer with stat\"] = d[\" Developer with a statistics or mathematics background\"]+ d[\"Developer with a statistics or mathematics background\"]\n",
    "d[\"Back-end dev\"] = d[\"Back-end developer\"] + d[\"Developer, back-end\"]\n",
    "d[\"Graphic design\"]=d[\" Graphics programming\"] + d[\"Graphics programming\"] + d[\" Graphic designer\"] + d[\"Graphic designer\"] + d[\"Designer\"]\n",
    "d[\"Front-end dev\"] = d[\"Front-end developer\"] + d[\"Developer, front-end\"]\n",
    "d[\"Full-stack dev\"] = d[\"Full-stack developer\"] + d[\"Developer, full-stack\"]\n",
    "d[\"Game/graphics dev\"] = d[\"Game or graphics developer\"]+d[\"Developer, game or graphics\"]\n",
    "d[\"QA/test eng\"] = d[\"QA or test developer\"] + d[\"Developer, QA or test\"] + d[\"Quality assurance engineer\"] + d[\" Quality assurance engineer\"]\n",
    "d[\"Mobile dev\"] = d[\" Mobile developer\"] + d[\"Developer, mobile\"] + d[\"Mobile developer\"]\n",
    "d[\"DevOps\"] =  d[\" DevOps specialist\"] + d[\"DevOps specialist\"]\n",
    "d[\"Embedded Developer\"]=d[\"Embedded applications/devices developer\"]+d[\" Embedded applications/devices developer\"]+d[\"Embedded applications or devices developer\"] +d[\"Developer, embedded applications or devices\"]\n",
    "d[\"Other dev\"] = d[\" Other\"] + d[\"Other\"]"
   ]
  },
  {
   "cell_type": "code",
   "execution_count": null,
   "metadata": {},
   "outputs": [],
   "source": [
    "d[\"CEO, CTO, etc\"] = d[\"C-suite executive (CEO, CTO, etc.)\"]\n",
    "d[\"Engineer of site reliability\"] = d[\"Engineer, site reliability\"]\n",
    "d[\"Engineering Manager\"] = d[\"Engineering manager\"]\n",
    "d[\"Marketing or sales Professional\"] = d[\"Marketing or sales professional\"]\n",
    "d[\"Product Manager\"] = d[\"Product manager\"]\n",
    "d[\"Senior Executive/VP\"] = d[\"Senior executive/VP\"]\n",
    "d[\"Students\"] = d[\"Student\"]\n",
    "d[\"Web developers\"]  =  d[\"Web developer\"]"
   ]
  },
  {
   "cell_type": "code",
   "execution_count": null,
   "metadata": {},
   "outputs": [],
   "source": [
    "d1 = d.loc[:, 'Academic, educator, researcher':'Web developers']\n",
    "d1"
   ]
  },
  {
   "cell_type": "code",
   "execution_count": null,
   "metadata": {},
   "outputs": [],
   "source": [
    "d1 = d1[['Academic, educator, researcher','Data scientist or ML','Database admin','Desktop app dev',\n",
    "         'System admin','Developer with stat','Back-end dev','Graphic design','Front-end dev','Full-stack dev',\n",
    "         'Game/graphics dev','QA/test eng','Mobile dev','DevOps','Embedded Developer','Other dev','CEO, CTO, etc',\n",
    "         'Engineer of site reliability','Engineering Manager','Marketing or sales Professional','Product Manager',\n",
    "         'Senior Executive/VP','Students','Web developers',\n",
    "]].replace({\n",
    "    2:1,\n",
    "    3:1,\n",
    "    4:1,\n",
    "    5:1,\n",
    "    6:1,\n",
    "    7:1,\n",
    "    8:1,\n",
    "    9:1,\n",
    "    10:1})"
   ]
  },
  {
   "cell_type": "code",
   "execution_count": null,
   "metadata": {},
   "outputs": [],
   "source": [
    "df.drop(columns=[\"DevType\"], axis=1, inplace=True)"
   ]
  },
  {
   "cell_type": "code",
   "execution_count": null,
   "metadata": {},
   "outputs": [],
   "source": [
    "df"
   ]
  },
  {
   "cell_type": "code",
   "execution_count": null,
   "metadata": {},
   "outputs": [],
   "source": [
    "#sklejamy df z d1\n",
    "df3 = pd.concat([df, d1], axis=1)\n",
    "df3"
   ]
  },
  {
   "cell_type": "code",
   "execution_count": null,
   "metadata": {
    "scrolled": true
   },
   "outputs": [],
   "source": [
    "df3.columns"
   ]
  },
  {
   "cell_type": "markdown",
   "metadata": {},
   "source": [
    "# TO DO\n",
    "\n",
    "- DatabaseWorkedWith - rozbić, get_dummies\n",
    "- LanguagesWorkedWith - rozbić get_dummies\n",
    "- co z Krajem?\n",
    "- zrobić  model\n",
    "- Piklowanie\n",
    "\n"
   ]
  },
  {
   "cell_type": "code",
   "execution_count": null,
   "metadata": {},
   "outputs": [],
   "source": [
    "d_DatabaseWorkedWith = df[\"DatabaseWorkedWith\"].str.get_dummies(sep=\";\")"
   ]
  },
  {
   "cell_type": "code",
   "execution_count": null,
   "metadata": {},
   "outputs": [],
   "source": [
    "d_DatabaseWorkedWith[\"MongoDB_1\"] = d_DatabaseWorkedWith[\" MongoDB\"] + d_DatabaseWorkedWith[\"MongoDB\"]\n",
    "d_DatabaseWorkedWith[\"MySQL_1\"] = d_DatabaseWorkedWith[\" MySQL\"] + d_DatabaseWorkedWith[\"MySQL\"]\n",
    "d_DatabaseWorkedWith[\"Oracle_1\"] = d_DatabaseWorkedWith[\" Oracle\"] + d_DatabaseWorkedWith[\"Oracle\"]\n",
    "d_DatabaseWorkedWith[\"PostgreSQL_1\"] = d_DatabaseWorkedWith[\" PostgreSQL\"] + d_DatabaseWorkedWith[\"PostgreSQL\"]\n",
    "d_DatabaseWorkedWith[\"Redis_1\"] = d_DatabaseWorkedWith[\" Redis\"] + d_DatabaseWorkedWith[\"Redis\"]\n",
    "d_DatabaseWorkedWith[\"Microsoft_SQL_Server_1\"] = d_DatabaseWorkedWith[\" SQL Server\"] + d_DatabaseWorkedWith[\"SQL Server\"] + d_DatabaseWorkedWith[\"Microsoft SQL Server\"]\n",
    "d_DatabaseWorkedWith[\"SQLite_1\"] = d_DatabaseWorkedWith[\" SQLite\"] + d_DatabaseWorkedWith[\"SQLite\"]\n",
    "d_DatabaseWorkedWith[\"Amazon_DynamoDB_1\"] = d_DatabaseWorkedWith[\"Amazon DynamoDB\"] + d_DatabaseWorkedWith[\"DynamoDB\"]\n",
    "d_DatabaseWorkedWith[\"IBM_DB2_1\"] = d_DatabaseWorkedWith[\"IBM DB2\"] + d_DatabaseWorkedWith[\"IBM Db2\"]\n",
    "d_DatabaseWorkedWith[\"MariaDB_1\"] = d_DatabaseWorkedWith[\"MariaDB\"]\n",
    "d_DatabaseWorkedWith[\"Amazon_RDS/Aurora_1\"] = d_DatabaseWorkedWith[\"Amazon RDS/Aurora\"]\n",
    "d_DatabaseWorkedWith[\"Amazon_Redshift_1\"] = d_DatabaseWorkedWith[\"Amazon Redshift\"]\n",
    "d_DatabaseWorkedWith[\"Apache_HBase_1\"] = d_DatabaseWorkedWith[\"Apache HBase\"]\n",
    "d_DatabaseWorkedWith[\"Apache_Hive_1\"] = d_DatabaseWorkedWith[\"Apache Hive\"]\n",
    "d_DatabaseWorkedWith[\"Cassandra_1\"] = d_DatabaseWorkedWith[\"Cassandra\"]\n",
    "d_DatabaseWorkedWith[\"Couchbase1\"] = d_DatabaseWorkedWith[\"Couchbase\"]\n",
    "d_DatabaseWorkedWith[\"Elasticseach_1\"] = d_DatabaseWorkedWith[\"Elasticsearch\"]\n",
    "d_DatabaseWorkedWith[\"Firebase_1\"] = d_DatabaseWorkedWith[\"Firebase\"]\n",
    "d_DatabaseWorkedWith[\"Google_BigQuery_1\"] = d_DatabaseWorkedWith[\"Google BigQuery\"]\n",
    "d_DatabaseWorkedWith[\"Google_Cloud_Storage_1\"] = d_DatabaseWorkedWith[\"Google Cloud Storage\"]\n",
    "d_DatabaseWorkedWith[\"Memcached_1\"] = d_DatabaseWorkedWith[\"Memcached\"]\n",
    "d_DatabaseWorkedWith[\"Microsoft_Azure_(Tables, CosmosDB, SQL, etc)_1\"] = d_DatabaseWorkedWith[\"Microsoft Azure (Tables, CosmosDB, SQL, etc)\"]\n",
    "d_DatabaseWorkedWith[\"Neo4j_1\"] = d_DatabaseWorkedWith[\"Neo4j\"]\n",
    "d_DatabaseWorkedWith[\"Other_1\"] = d_DatabaseWorkedWith[\"Other(s):\"]"
   ]
  },
  {
   "cell_type": "code",
   "execution_count": null,
   "metadata": {},
   "outputs": [],
   "source": [
    "d_DatabaseWorkedWith = d_DatabaseWorkedWith.loc[:, \"MongoDB_1\":\"Other_1\" ]"
   ]
  },
  {
   "cell_type": "code",
   "execution_count": null,
   "metadata": {},
   "outputs": [],
   "source": [
    "d_DatabaseWorkedWith"
   ]
  },
  {
   "cell_type": "code",
   "execution_count": null,
   "metadata": {},
   "outputs": [],
   "source": [
    "d_DatabaseWorkedWith = d_DatabaseWorkedWith[['MySQL_1','Microsoft_SQL_Server_1','PostgreSQL_1','MongoDB_1','SQLite_1',\n",
    "                            'Redis_1','Elasticseach_1','MariaDB_1','Oracle_1','Firebase_1','Amazon_DynamoDB_1',\n",
    "                            'Cassandra_1','Other_1','Microsoft_Azure_(Tables, CosmosDB, SQL, etc)_1','Memcached_1',\n",
    "                            'Amazon_RDS/Aurora_1','Google_Cloud_Storage_1','IBM_DB2_1','Couchbase1','Amazon_Redshift_1',\n",
    "                            'Neo4j_1','Google_BigQuery_1','Apache_Hive_1','Apache_HBase_1',\n",
    "]].replace({\n",
    "    2:1,\n",
    "    3:1,\n",
    "    4:1,\n",
    "    5:1,\n",
    "    6:1,\n",
    "    7:1,\n",
    "    8:1,\n",
    "    9:1,\n",
    "    10:1})"
   ]
  },
  {
   "cell_type": "code",
   "execution_count": null,
   "metadata": {},
   "outputs": [],
   "source": [
    "df4 = pd.concat([df3, d_DatabaseWorkedWith], axis=1)\n",
    "df4"
   ]
  },
  {
   "cell_type": "code",
   "execution_count": null,
   "metadata": {},
   "outputs": [],
   "source": [
    "df4.drop(columns=[\"DatabaseWorkedWith\"], axis=1, inplace=True)\n",
    "df4.columns"
   ]
  },
  {
   "cell_type": "code",
   "execution_count": null,
   "metadata": {},
   "outputs": [],
   "source": [
    "d4 = df[\"LanguageWorkedWith\"].str.get_dummies(sep=\";\")\n",
    "d4"
   ]
  },
  {
   "cell_type": "code",
   "execution_count": null,
   "metadata": {},
   "outputs": [],
   "source": [
    "d4[\"C++_lang\"] = d4[\" C\"] + d4[\" C#\"] + d4[\" C++\"]+d4[\"C\"]+d4[\"C#\"]+d4[\"C++\"]\n",
    "d4[\"Common_Lisp_lang\"] = d4[\"Common Lisp\"]\n",
    "d4[\"Clojure_lang\"] = d4[\" Clojure\"] + d4[\"Clojure\"]\n",
    "d4[\"CoffeeScript_lang\"] = d4[\" CoffeeScript\"]+d4[\"CoffeeScript\"]\n",
    "d4[\"Dart_lang\"] = d4[\" Dart\"]+d4[\"Dart\"]\n",
    "d4[\"Elixir_lang\"] = d4[\" Elixir\"]+d4[\"Elixir\"]\n",
    "d4[\"Erlang_lang\"] = d4[\" Erlang\"]+d4[\"Erlang\"]\n",
    "d4[\"F#_lang\"] = d4[\" F#\"]+d4[\"F#\"]\n",
    "d4[\"Go_lang\"] = d4[\" Go\"]+d4[\"Go\"]\n",
    "d4[\"Groovy_lang\"] = d4[\" Groovy\"]+d4[\"Groovy\"]\n",
    "d4[\"Hack_lang\"] = d4[\" Hack\"]+d4[\"Hack\"]\n",
    "d4[\"Haskell_lang\"] = d4[\" Haskell\"]+d4[\"Haskell\"]\n",
    "d4[\"Java_lang\"] = d4[\" Java\"]+d4[\"Java\"]\n",
    "d4[\"JavaScript_lang\"] = d4[\" JavaScript\"]+d4[\"JavaScript\"]\n",
    "d4[\"Julia_lang\"] = d4[\" Julia\"]+d4[\"Julia\"]\n",
    "d4[\"Lua_lang\"] = d4[\" Lua\"]+d4[\"Lua\"]\n",
    "d4[\"Matlab_lang\"] = d4[\" Matlab\"]+d4[\"Matlab\"]\n",
    "d4[\"Objective-C_lang\"] = d4[\" Objective-C\"]+d4[\"Objective-C\"]\n",
    "d4[\"Perl_lang\"] = d4[\" Perl\"]+d4[\"Perl\"]\n",
    "d4[\"PHP_lang\"] = d4[\" PHP\"]+d4[\"PHP\"]\n",
    "d4[\"Python_lang\"] = d4[\" Python\"]+d4[\"Python\"]\n",
    "d4[\"R_lang\"] = d4[\" R\"]+d4[\"R\"]\n",
    "d4[\"Ruby_lang\"]=d4[\" Ruby\"]+d4[\"Ruby\"]\n",
    "d4[\"Rust_lang\"] = d4[\" Rust\"]+d4[\"Rust\"]\n",
    "d4[\"Scala_lang\"] = d4[\" Scala\"]+d4[\"Scala\"]\n",
    "d4[\"Smalltalk_lang\"] = d4[\" Smalltalk\"]+d4[\"Smalltalk\"]\n",
    "d4[\"SQL_lang\"] = d4[\" SQL\"]+d4[\"SQL\"]\n",
    "d4[\"Swift_lang\"] = d4[\" Swift\"]+d4[\"Swift\"]\n",
    "d4[\"TypeScript_lang\"] = d4[\" TypeScript\"]+d4[\"TypeScript\"]\n",
    "d4[\"VB.NET_lang\"] = d4[\" VB.NET\"]+d4[\"VB.NET\"]\n",
    "d4[\"VBA_lang\"] = d4[\" VBA\"]+d4[\"VBA\"]+d4[\"Visual Basic 6\"]+d4[\" Visual Basic 6\"]\n",
    "d4[\"WebAssembly_lang\"] = d4[\"Assembly\"]+d4[\"WebAssembly\"]\n",
    "d4[\"Cobol_lang\"] = d4[\"Cobol\"]\n",
    "d4[\"Delphi/Object_Pascal_lang\"] = d4[\"Delphi/Object Pascal\"]\n",
    "d4[\"HTML/CSS_lang\"] = d4[\"HTML\"]+d4[\"HTML/CSS\"]+d4[\"CSS\"]\n",
    "d4[\"Kotlin_lang\"] = d4[\"Kotlin\"]\n",
    "d4[\"Bash/Shell/PowerShell_lang\"] = d4[\"Bash/Shell/PowerShell\"]+d4[\"Bash/Shell\"]\n",
    "d4[\"Ocaml_lang\"] = d4[\"Ocaml\"]\n",
    "d4[\"Other_lang\"] = d4[\"Other(s):\"]"
   ]
  },
  {
   "cell_type": "code",
   "execution_count": null,
   "metadata": {},
   "outputs": [],
   "source": [
    "d4 = d4.loc[:, 'C++_lang':'Other_lang']"
   ]
  },
  {
   "cell_type": "code",
   "execution_count": null,
   "metadata": {},
   "outputs": [],
   "source": [
    "d4 = d4[['HTML/CSS_lang','C++_lang','JavaScript_lang','SQL_lang','Python_lang','Java_lang','Bash/Shell/PowerShell_lang',\n",
    "    'PHP_lang','TypeScript_lang','Ruby_lang','Go_lang','Swift_lang','VBA_lang','R_lang','Kotlin_lang','Objective-C_lang',\n",
    "    'WebAssembly_lang','Scala_lang','Rust_lang','Other_lang','Perl_lang','VB.NET_lang','Groovy_lang','Matlab_lang',\n",
    "    'Haskell_lang','F#_lang','Dart_lang','Clojure_lang','CoffeeScript_lang','Lua_lang','Elixir_lang','Erlang_lang',\n",
    "    'Delphi/Object_Pascal_lang','Julia_lang','Cobol_lang','Ocaml_lang','Hack_lang','Smalltalk_lang','Common_Lisp_lang']].replace({\n",
    "    2:1,\n",
    "    3:1,\n",
    "    4:1,\n",
    "    5:1,\n",
    "    6:1,\n",
    "    7:1,\n",
    "    8:1,\n",
    "    9:1,\n",
    "    10:1})"
   ]
  },
  {
   "cell_type": "code",
   "execution_count": null,
   "metadata": {},
   "outputs": [],
   "source": [
    "df4.drop(columns=[\"LanguageWorkedWith\"], axis=1, inplace=True)\n",
    "df4"
   ]
  },
  {
   "cell_type": "code",
   "execution_count": null,
   "metadata": {},
   "outputs": [],
   "source": [
    "df5 = pd.concat([df4, d4], axis=1)\n",
    "df5"
   ]
  },
  {
   "cell_type": "code",
   "execution_count": null,
   "metadata": {
    "scrolled": true
   },
   "outputs": [],
   "source": [
    "d6 = df[\"OrgSize\"].str.get_dummies(sep=\";\")\n",
    "d6"
   ]
  },
  {
   "cell_type": "code",
   "execution_count": null,
   "metadata": {},
   "outputs": [],
   "source": [
    "df6 = pd.concat([df5, d6], axis=1)\n",
    "df6"
   ]
  },
  {
   "cell_type": "code",
   "execution_count": null,
   "metadata": {},
   "outputs": [],
   "source": [
    "d7 = df[\"Hobbyist\"].str.get_dummies(sep=\";\")\n",
    "d7"
   ]
  },
  {
   "cell_type": "code",
   "execution_count": null,
   "metadata": {},
   "outputs": [],
   "source": [
    "df7 =pd.concat([df6,d7], axis=1)\n",
    "df7"
   ]
  },
  {
   "cell_type": "code",
   "execution_count": null,
   "metadata": {
    "scrolled": true
   },
   "outputs": [],
   "source": [
    "d8 = df[\"Employment\"].str.get_dummies(sep=\";\")\n",
    "d8"
   ]
  },
  {
   "cell_type": "code",
   "execution_count": null,
   "metadata": {
    "scrolled": false
   },
   "outputs": [],
   "source": [
    "df8 = pd.concat([df7,d8], axis=1)\n",
    "df8"
   ]
  },
  {
   "cell_type": "code",
   "execution_count": null,
   "metadata": {},
   "outputs": [],
   "source": [
    "df8[\"JobSat\"].replace({\n",
    "        'Extremely dissatisfied': '1',\n",
    "        'Very dissatisfied': '1',\n",
    "        'Moderately dissatisfied': '1',\n",
    "        '0.0': '1',\n",
    "        '1.0': '1',\n",
    "        '2.0': '1',\n",
    "        '3.0': '1',\n",
    "        'Slightly dissatisfied': '2',\n",
    "        'Neither satisfied nor dissatisfied': '2',\n",
    "        'Slightly satisfied': '2',\n",
    "        '4.0': '2',\n",
    "        '5.0': '2',\n",
    "        '6.0': '2',\n",
    "        'Moderately satisfied': '3',\n",
    "        'Very satisfied': '3',\n",
    "        'Extremely satisfied': '3',\n",
    "        '7.0': '3',\n",
    "        '8.0': '3',\n",
    "        '9.0': '3',\n",
    "        '10.0': '3',\n",
    "        'nan': '2',\n",
    "        np.NaN: '2'\n",
    "        }, inplace=True)"
   ]
  },
  {
   "cell_type": "code",
   "execution_count": null,
   "metadata": {},
   "outputs": [],
   "source": [
    "df['YearsCodePro'].replace({\n",
    "        '0-2 years': '2',\n",
    "        '1 to 2 years' : '2',\n",
    "        '10 to 11 years' : '11',\n",
    "        '11 to 12 years' : '12',\n",
    "        '12 to 13 years' : '13',\n",
    "        '12-14 years' : '13',\n",
    "        '13 to 14 years' : '14',\n",
    "        '14 to 15 years' : '15',\n",
    "        '15 to 16 years' : '16',\n",
    "        '15-17 years' : '16',\n",
    "        '16 to 17 years' : '17',\n",
    "        '17 to 18 years' : '18',\n",
    "        '18 to 19 years' : '19',\n",
    "        '18-20 years' : '19',\n",
    "        '19 to 20 years' : '20',\n",
    "        '2 to 3 years' : '3',\n",
    "        '20 or more years' : '20',\n",
    "        '21-23 years' : '22',\n",
    "        '24-26 years' : '25',\n",
    "        '27-29 years' : '28',\n",
    "        '3 to 4 years' : '4',\n",
    "        '30 or more years' : '30',\n",
    "        '3-5 years' : '4',\n",
    "        '4 to 5 years' : '5',\n",
    "        '5 to 6 years' : '6',\n",
    "        '6 to 7 years' : '7',\n",
    "        '6-8 years' : '7',\n",
    "        '7 to 8 years' : '8',\n",
    "        '8 to 9 years' : '9',\n",
    "        '9 to 10 years' : '10',\n",
    "        '9-11 years' : '10',\n",
    "        'Less than 1 year' : '1',\n",
    "        'Less than a year' : '1',\n",
    "        'More than 50 years' : '50',\n",
    "        np.NaN: '0'\n",
    "    }, inplace=True)"
   ]
  },
  {
   "cell_type": "code",
   "execution_count": null,
   "metadata": {},
   "outputs": [],
   "source": [
    "df8['YearsCodePro'] = df8['YearsCodePro'].astype('int')\n",
    "df8['JobSat'] = df8['JobSat'].astype('int')"
   ]
  },
  {
   "cell_type": "code",
   "execution_count": null,
   "metadata": {},
   "outputs": [],
   "source": [
    "df8 =df8.drop(columns=[\"Hobbyist\", \"Country\", \"EdLevel\", \"Employment\", \"OrgSize\"])"
   ]
  },
  {
   "cell_type": "code",
   "execution_count": null,
   "metadata": {},
   "outputs": [],
   "source": [
    "y = df8[\"ConvertedComp\"]\n",
    "x = df8.drop([\"ConvertedComp\"], axis=1)"
   ]
  },
  {
   "cell_type": "code",
   "execution_count": null,
   "metadata": {},
   "outputs": [],
   "source": [
    "x_train, x_test, y_train, y_test = train_test_split(x,y, test_size=0.2)"
   ]
  },
  {
   "cell_type": "code",
   "execution_count": null,
   "metadata": {},
   "outputs": [],
   "source": [
    "xg_reg = xgb.XGBRegressor(n_estimators=10, max_depth=5)"
   ]
  },
  {
   "cell_type": "code",
   "execution_count": null,
   "metadata": {},
   "outputs": [],
   "source": [
    "xg_reg.fit(x_train, y_train)"
   ]
  },
  {
   "cell_type": "code",
   "execution_count": null,
   "metadata": {},
   "outputs": [],
   "source": [
    "xg_reg.score(x_test, y_test)"
   ]
  },
  {
   "cell_type": "code",
   "execution_count": null,
   "metadata": {},
   "outputs": [],
   "source": [
    "x_train.info()"
   ]
  },
  {
   "cell_type": "code",
   "execution_count": null,
   "metadata": {
    "scrolled": false
   },
   "outputs": [],
   "source": [
    "rcParams['figure.figsize'] = 10, 8\n",
    "\n",
    "xgb.plot_importance(xg_reg)"
   ]
  },
  {
   "cell_type": "code",
   "execution_count": null,
   "metadata": {},
   "outputs": [],
   "source": [
    "df.columns"
   ]
  },
  {
   "cell_type": "code",
   "execution_count": null,
   "metadata": {},
   "outputs": [],
   "source": [
    "from sklearn.preprocessing import LabelEncoder\n",
    "\n",
    "list_to_encode = [\n",
    "    'Hobbyist', 'JobSat', 'OrgSize','Employment'\n",
    "]\n",
    "\n",
    "df_encoded = pd.get_dummies(df, columns=list_to_encode)\n",
    "df_encoded.head()"
   ]
  },
  {
   "cell_type": "code",
   "execution_count": null,
   "metadata": {},
   "outputs": [],
   "source": [
    "df_encodedD = pd.concat([df_encoded,d4], axis=1)\n",
    "df_encodedD"
   ]
  },
  {
   "cell_type": "code",
   "execution_count": null,
   "metadata": {},
   "outputs": [],
   "source": [
    "df_encodedDL = pd.concat([df_encodedD, d_DatabaseWorkedWith], axis=1)\n",
    "df_encodedDL"
   ]
  },
  {
   "cell_type": "code",
   "execution_count": null,
   "metadata": {},
   "outputs": [],
   "source": [
    "from sklearn.preprocessing import LabelEncoder\n",
    "#labelencoder zwróci kodowanie gdzie każdy string jest mapowany na int\n",
    "le = LabelEncoder()\n",
    "y = le.fit_transform(df_encoded['ConvertedComp'])\n",
    "#dopasuje i przetransformuje y \n",
    "x = df_encoded.drop(['ConvertedComp','Year', 'Country', 'LanguageWorkedWith', 'DatabaseWorkedWith', 'EdLevel'], axis=1)"
   ]
  },
  {
   "cell_type": "code",
   "execution_count": null,
   "metadata": {},
   "outputs": [],
   "source": [
    "data_dm = xgb.DMatrix(data=x.values, label=y)\n",
    "#używamy opcji DMatrix aby wprowadzić dane"
   ]
  },
  {
   "cell_type": "code",
   "execution_count": null,
   "metadata": {},
   "outputs": [],
   "source": [
    "# auc == AUROC == pole pod krzywą ROC\n",
    "\n",
    "params = {\n",
    "    \"objective\": \"reg:logistic\", \n",
    "    \"max_depth\": 10, \n",
    "    \"booster\": \"gbtree\",\n",
    "    \"learning_rate\": 0.3  # DEFAULT: 0.3\n",
    "}\n",
    "cv_results = xgb.cv(\n",
    "    dtrain=data_dm, \n",
    "    params=params, \n",
    "    nfold=4, \n",
    "    num_boost_round=50, metrics=[\"error\", \"auc\"], as_pandas=True) #metrics=\"auc\"\n",
    "cv_results\n",
    "#tutaj robimy regresje logistyczną jako klasyfikacje"
   ]
  },
  {
   "cell_type": "code",
   "execution_count": null,
   "metadata": {},
   "outputs": [],
   "source": [
    "# Spróbujmy użyć klasycznego model_selection - czy wyniki są mniej więcej zgodne?\n",
    "\n",
    "import sklearn.model_selection as msel\n",
    "\n",
    "# .score() - accuracy\n",
    "\n",
    "clf = xgb.XGBClassifier(objective=\"reg:logistic\", max_depth=3, \n",
    "                        learning_rate=0.8, n_estimators=250)\n",
    "msel.cross_val_score(clf, x, y, cv=4, n_jobs=6)"
   ]
  }
 ],
 "metadata": {
  "kernelspec": {
   "display_name": "Python 3",
   "language": "python",
   "name": "python3"
  },
  "language_info": {
   "codemirror_mode": {
    "name": "ipython",
    "version": 3
   },
   "file_extension": ".py",
   "mimetype": "text/x-python",
   "name": "python",
   "nbconvert_exporter": "python",
   "pygments_lexer": "ipython3",
   "version": "3.8.5"
  },
  "toc": {
   "base_numbering": 1,
   "nav_menu": {},
   "number_sections": true,
   "sideBar": true,
   "skip_h1_title": false,
   "title_cell": "Table of Contents",
   "title_sidebar": "Contents",
   "toc_cell": false,
   "toc_position": {},
   "toc_section_display": true,
   "toc_window_display": false
  }
 },
 "nbformat": 4,
 "nbformat_minor": 5
}
